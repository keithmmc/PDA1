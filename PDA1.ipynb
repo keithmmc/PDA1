{
 "cells": [
  {
   "cell_type": "markdown",
   "metadata": {},
   "source": [
    "## Programming for Data Analysis 2023 Project\n",
    "## Course: Highter Diploma in Data Analytics\n",
    "## Module: Programming for Data Analytics"
   ]
  },
  {
   "cell_type": "markdown",
   "metadata": {},
   "source": [
    "# Overview \n",
    "The goal of this project is to simulate a dataset based on a measurable real-world phenomenon for which at least one-hundred data points across at least four different variables could be collected.\n",
    "\n",
    "Upon investigating the types of variables involved, their likely distributions, and their relationships with each other a data set as closely matching their properties as possible was to be synthesised."
   ]
  },
  {
   "cell_type": "markdown",
   "metadata": {},
   "source": [
    "# Introduction \n",
    "\n",
    " \n",
    "This notebook will focus on building a dataset on peoples health, It will use the healthy Ireland survey 2022, as it's main reference point along with other supporting research to gather this data. \n",
    "\n",
    "The Healthy Ireland Survey is an annual survey conducted with a representative sample of the population aged 15 and older living in Ireland. The sample size is typically in the region of over 1000 people. \n",
    "\n",
    "The Health Ireland survey covers the following data points:\n",
    "1. General health\n",
    "2. Smoking\n",
    "3. Alcohol consumption\n",
    "4. Weight\n",
    "5. Dental health\n",
    "6. Skin health and protection\n",
    "7. Menstrual health and period poverty\n",
    "8. Mental health and suicide awareness\n",
    "9. Health service utilisation\n",
    "10. Health behaviours and COVID-19\n",
    "\n",
    "for the purpose's of this notebook I will look at the following in more detail. \n",
    "1. General Health\n",
    "2. smoking \n",
    "3. Alcohol consumption \n",
    "4. Weight/BMI\n",
    "\n",
    "According to figures published by the European Commission, Ireland has the second highest rate of obesity in the EU with more than a quarter of the adult population in the Republic classified as obese, The EU-wide survey of overweight rates among Europeans reveals that 26% of Irish adults in 2019 were obese.\n",
    "\n",
    "This dataset has four main parts firstly researching the datapoints and the natural occurance of the distribution of data, secondly creating a derived distribution of the data points based on their natural occurances. Thirdly, creating a simulated dataset for a thousand repondents, for nine different data categories (age, gender, height, weight, BMI, BMI classification, alcohol units per week, exercise in minuteds per week and smoking status). The final element of the project will investigate the simulated dataset."
   ]
  },
  {
   "cell_type": "markdown",
   "metadata": {},
   "source": [
    "# Modules used on this project \n",
    "\n",
    "1. NumPy As mentioned above I will be using the NumPy module for this project, NumPy stands for Numerical Python and is used for working with arrays. I will be using the NumPy random module in partucler this generates random numbers for arrays. \n",
    "\n",
    "2. pandas This is a module for analyzing cleaning and exploring datasets. Some uses for Pandas would be to get the min value and the max value of a dataset. \n",
    "\n"
   ]
  },
  {
   "cell_type": "markdown",
   "metadata": {},
   "source": [
    "# importing packages "
   ]
  },
  {
   "cell_type": "code",
   "execution_count": 1,
   "metadata": {},
   "outputs": [],
   "source": [
    "import numpy as np\n",
    "import pandas as pd \n",
    "import seaborn as sns\n",
    "import matplotlib.pyplot as plt\n",
    "\n"
   ]
  },
  {
   "cell_type": "code",
   "execution_count": 2,
   "metadata": {},
   "outputs": [],
   "source": [
    "df = pd.DataFrame(index = None)\n"
   ]
  },
  {
   "cell_type": "markdown",
   "metadata": {},
   "source": [
    "# gender\n",
    "\n",
    "Gender is a binary categorical value, in that it has two values, male and female. Categorical data can also take on numerical values for example 1 = female and 0 = male.\n",
    "\n",
    "According to the Census of Population, there were 978 males for every 1,000 females in Ireland at that time. This translates to the ratio of male: 49.44% and female: 50.56%.\n",
    "\n",
    "However, it is closer to the ratio below when looking at adult population only:\n",
    "\n",
    "male 48.88%\n",
    "female 51.12%\n",
    "\n",
    " Therefore when creating a simulation of gender the the probably function used is males = 0.48 and females 0.51."
   ]
  },
  {
   "cell_type": "code",
   "execution_count": 15,
   "metadata": {},
   "outputs": [
    {
     "data": {
      "text/plain": [
       "gender\n",
       "Female    527\n",
       "Male      473\n",
       "Name: count, dtype: int64"
      ]
     },
     "execution_count": 15,
     "metadata": {},
     "output_type": "execute_result"
    }
   ],
   "source": [
    "gender = [\"Male\",\"Female\"]\n",
    "gender = np.random.choice (gender, p = [0.4888,  0.5112], size = 1000)\n",
    "df[\"gender\"] = gender\n",
    "df['gender'].value_counts()\n",
    "\n",
    "\n"
   ]
  },
  {
   "cell_type": "markdown",
   "metadata": {},
   "source": [
    "As per the real world data we can see that there is more females than males in Ireland. "
   ]
  },
  {
   "cell_type": "code",
   "execution_count": 17,
   "metadata": {},
   "outputs": [
    {
     "data": {
      "text/html": [
       "<div>\n",
       "<style scoped>\n",
       "    .dataframe tbody tr th:only-of-type {\n",
       "        vertical-align: middle;\n",
       "    }\n",
       "\n",
       "    .dataframe tbody tr th {\n",
       "        vertical-align: top;\n",
       "    }\n",
       "\n",
       "    .dataframe thead th {\n",
       "        text-align: right;\n",
       "    }\n",
       "</style>\n",
       "<table border=\"1\" class=\"dataframe\">\n",
       "  <thead>\n",
       "    <tr style=\"text-align: right;\">\n",
       "      <th></th>\n",
       "      <th>gender</th>\n",
       "    </tr>\n",
       "  </thead>\n",
       "  <tbody>\n",
       "    <tr>\n",
       "      <th>995</th>\n",
       "      <td>Female</td>\n",
       "    </tr>\n",
       "    <tr>\n",
       "      <th>996</th>\n",
       "      <td>Female</td>\n",
       "    </tr>\n",
       "    <tr>\n",
       "      <th>997</th>\n",
       "      <td>Female</td>\n",
       "    </tr>\n",
       "    <tr>\n",
       "      <th>998</th>\n",
       "      <td>Female</td>\n",
       "    </tr>\n",
       "    <tr>\n",
       "      <th>999</th>\n",
       "      <td>Male</td>\n",
       "    </tr>\n",
       "  </tbody>\n",
       "</table>\n",
       "</div>"
      ],
      "text/plain": [
       "     gender\n",
       "995  Female\n",
       "996  Female\n",
       "997  Female\n",
       "998  Female\n",
       "999    Male"
      ]
     },
     "execution_count": 17,
     "metadata": {},
     "output_type": "execute_result"
    }
   ],
   "source": [
    "df.head()\n"
   ]
  },
  {
   "cell_type": "code",
   "execution_count": 18,
   "metadata": {},
   "outputs": [
    {
     "data": {
      "text/html": [
       "<div>\n",
       "<style scoped>\n",
       "    .dataframe tbody tr th:only-of-type {\n",
       "        vertical-align: middle;\n",
       "    }\n",
       "\n",
       "    .dataframe tbody tr th {\n",
       "        vertical-align: top;\n",
       "    }\n",
       "\n",
       "    .dataframe thead th {\n",
       "        text-align: right;\n",
       "    }\n",
       "</style>\n",
       "<table border=\"1\" class=\"dataframe\">\n",
       "  <thead>\n",
       "    <tr style=\"text-align: right;\">\n",
       "      <th></th>\n",
       "      <th>gender</th>\n",
       "    </tr>\n",
       "  </thead>\n",
       "  <tbody>\n",
       "    <tr>\n",
       "      <th>995</th>\n",
       "      <td>Female</td>\n",
       "    </tr>\n",
       "    <tr>\n",
       "      <th>996</th>\n",
       "      <td>Female</td>\n",
       "    </tr>\n",
       "    <tr>\n",
       "      <th>997</th>\n",
       "      <td>Female</td>\n",
       "    </tr>\n",
       "    <tr>\n",
       "      <th>998</th>\n",
       "      <td>Female</td>\n",
       "    </tr>\n",
       "    <tr>\n",
       "      <th>999</th>\n",
       "      <td>Male</td>\n",
       "    </tr>\n",
       "  </tbody>\n",
       "</table>\n",
       "</div>"
      ],
      "text/plain": [
       "     gender\n",
       "995  Female\n",
       "996  Female\n",
       "997  Female\n",
       "998  Female\n",
       "999    Male"
      ]
     },
     "execution_count": 18,
     "metadata": {},
     "output_type": "execute_result"
    }
   ],
   "source": [
    "df.tail()"
   ]
  },
  {
   "cell_type": "code",
   "execution_count": 22,
   "metadata": {},
   "outputs": [
    {
     "data": {
      "image/png": "[encoded data removed]",
      "text/plain": [
       "<Figure size 640x480 with 1 Axes>"
      ]
     },
     "metadata": {},
     "output_type": "display_data"
    }
   ],
   "source": [
    "# showing the difference \n",
    "sns.countplot(x = df[\"gender\"])\n",
    "plt.suptitle(\"male vs female\")\n",
    "plt.show()\n"
   ]
  }
 ],
 "metadata": {
  "kernelspec": {
   "display_name": "base",
   "language": "python",
   "name": "python3"
  },
  "language_info": {
   "codemirror_mode": {
    "name": "ipython",
    "version": 3
   },
   "file_extension": ".py",
   "mimetype": "text/x-python",
   "name": "python",
   "nbconvert_exporter": "python",
   "pygments_lexer": "ipython3",
   "version": "3.11.5"
  }
 },
 "nbformat": 4,
 "nbformat_minor": 2
}
