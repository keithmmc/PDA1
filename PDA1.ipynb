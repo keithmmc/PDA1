{
 "cells": [
  {
   "cell_type": "markdown",
   "metadata": {},
   "source": [
    "## Programming for Data Analysis 2023 Project\n",
    "## Course: Highter Diploma in Data Analytics\n",
    "## Module: Programming for Data Analytics"
   ]
  },
  {
   "cell_type": "markdown",
   "metadata": {},
   "source": [
    "# Overview \n",
    "The goal of this project is to simulate a dataset based on a measurable real-world phenomenon for which at least one-hundred data points across at least four different variables could be collected.\n",
    "\n",
    "Upon investigating the types of variables involved, their likely distributions, and their relationships with each other a data set as closely matching their properties as possible was to be synthesised."
   ]
  },
  {
   "cell_type": "markdown",
   "metadata": {},
   "source": [
    "# Introduction \n",
    "\n",
    " \n",
    "This notebook will focus on building a dataset on peoples health, It will use the healthy Ireland survey 2022, as it's main reference point along with other supporting research to gather this data. \n",
    "\n",
    "The Healthy Ireland Survey is an annual survey conducted with a representative sample of the population aged 15 and 65+ living in Ireland. The sample size is typically in the region of over 1000 people. \n",
    "\n",
    "The Health Ireland survey covers the following data points:\n",
    "1. General health\n",
    "2. Smoking\n",
    "3. Alcohol consumption\n",
    "4. Weight\n",
    "5. Dental health\n",
    "6. Skin health and protection\n",
    "7. Menstrual health and period poverty\n",
    "8. Mental health and suicide awareness\n",
    "9. Health service utilisation\n",
    "10. Health behaviours and COVID-19\n",
    "\n",
    "for the purpose's of this notebook I will look at the following in more detail. \n",
    "1. Age\n",
    "2. smoking \n",
    "3. Alcohol consumption \n",
    "4. Weight/BMI\n",
    "5. height\n",
    "\n",
    "\n",
    "\n",
    "This dataset has four main parts firstly researching the datapoints and the natural occurance of the distribution of data, secondly creating a derived distribution of the data points based on their natural occurances. Thirdly, creating a simulated dataset for a thousand repondents, for nine different data categories (age, gender, height, weight, BMI, BMI classification, alcohol units per week, exercise in minuteds per week and smoking status). The final element of the project will investigate the simulated dataset."
   ]
  },
  {
   "cell_type": "markdown",
   "metadata": {},
   "source": [
    "# Modules used on this project \n",
    "\n",
    "1. NumPy As mentioned above I will be using the NumPy module for this project, NumPy stands for Numerical Python and is used for working with arrays. I will be using the NumPy random module in partucler this generates random numbers for arrays. \n",
    "\n",
    "2. pandas This is a module for analyzing cleaning and exploring datasets. Some uses for Pandas would be to get the min value and the max value of a dataset. \n",
    "\n"
   ]
  },
  {
   "cell_type": "markdown",
   "metadata": {},
   "source": [
    "# importing packages "
   ]
  },
  {
   "cell_type": "code",
   "execution_count": 5,
   "metadata": {},
   "outputs": [],
   "source": [
    "import numpy as np\n",
    "import pandas as pd \n",
    "import seaborn as sns\n",
    "import matplotlib.pyplot as plt\n",
    "\n"
   ]
  },
  {
   "cell_type": "code",
   "execution_count": 6,
   "metadata": {},
   "outputs": [],
   "source": [
    "df = pd.DataFrame(index = None)\n"
   ]
  },
  {
   "cell_type": "markdown",
   "metadata": {},
   "source": [
    "# gender\n",
    "\n",
    "\n",
    "According to the Census of Population, there were 978 males for every 1,000 females in Ireland at that time. This translates to the ratio of male: 49.44% and female: 50.56%.\n",
    "\n",
    "However, it is closer to the ratio below when looking at adult population only:\n",
    "\n",
    "male 48.88%\n",
    "female 51.12%\n",
    "\n",
    " Therefore when creating a simulation of gender the the probably function used is males = 0.48 and females 0.51.\n",
    "\n",
    " Gender is a binary categorical value, in that it has two values, male and female. Categorical data can also take on numerical values for example 1 = female and 0 = male.\n"
   ]
  },
  {
   "cell_type": "code",
   "execution_count": 7,
   "metadata": {},
   "outputs": [
    {
     "data": {
      "text/plain": [
       "gender\n",
       "Female    516\n",
       "Male      484\n",
       "Name: count, dtype: int64"
      ]
     },
     "execution_count": 7,
     "metadata": {},
     "output_type": "execute_result"
    }
   ],
   "source": [
    "gender = [\"Male\",\"Female\"]\n",
    "gender = np.random.choice (gender, p = [0.4888,  0.5112], size = 1000)\n",
    "df[\"gender\"] = gender\n",
    "df['gender'].value_counts()\n",
    "\n",
    "\n"
   ]
  },
  {
   "cell_type": "markdown",
   "metadata": {},
   "source": [
    "As per the real world data we can see that there is more females than males in Ireland. "
   ]
  },
  {
   "cell_type": "code",
   "execution_count": 8,
   "metadata": {},
   "outputs": [
    {
     "data": {
      "text/html": [
       "<div>\n",
       "<style scoped>\n",
       "    .dataframe tbody tr th:only-of-type {\n",
       "        vertical-align: middle;\n",
       "    }\n",
       "\n",
       "    .dataframe tbody tr th {\n",
       "        vertical-align: top;\n",
       "    }\n",
       "\n",
       "    .dataframe thead th {\n",
       "        text-align: right;\n",
       "    }\n",
       "</style>\n",
       "<table border=\"1\" class=\"dataframe\">\n",
       "  <thead>\n",
       "    <tr style=\"text-align: right;\">\n",
       "      <th></th>\n",
       "      <th>gender</th>\n",
       "    </tr>\n",
       "  </thead>\n",
       "  <tbody>\n",
       "    <tr>\n",
       "      <th>0</th>\n",
       "      <td>Male</td>\n",
       "    </tr>\n",
       "    <tr>\n",
       "      <th>1</th>\n",
       "      <td>Female</td>\n",
       "    </tr>\n",
       "    <tr>\n",
       "      <th>2</th>\n",
       "      <td>Female</td>\n",
       "    </tr>\n",
       "    <tr>\n",
       "      <th>3</th>\n",
       "      <td>Male</td>\n",
       "    </tr>\n",
       "    <tr>\n",
       "      <th>4</th>\n",
       "      <td>Female</td>\n",
       "    </tr>\n",
       "  </tbody>\n",
       "</table>\n",
       "</div>"
      ],
      "text/plain": [
       "   gender\n",
       "0    Male\n",
       "1  Female\n",
       "2  Female\n",
       "3    Male\n",
       "4  Female"
      ]
     },
     "execution_count": 8,
     "metadata": {},
     "output_type": "execute_result"
    }
   ],
   "source": [
    "df.head()\n"
   ]
  },
  {
   "cell_type": "code",
   "execution_count": 9,
   "metadata": {},
   "outputs": [
    {
     "data": {
      "text/html": [
       "<div>\n",
       "<style scoped>\n",
       "    .dataframe tbody tr th:only-of-type {\n",
       "        vertical-align: middle;\n",
       "    }\n",
       "\n",
       "    .dataframe tbody tr th {\n",
       "        vertical-align: top;\n",
       "    }\n",
       "\n",
       "    .dataframe thead th {\n",
       "        text-align: right;\n",
       "    }\n",
       "</style>\n",
       "<table border=\"1\" class=\"dataframe\">\n",
       "  <thead>\n",
       "    <tr style=\"text-align: right;\">\n",
       "      <th></th>\n",
       "      <th>gender</th>\n",
       "    </tr>\n",
       "  </thead>\n",
       "  <tbody>\n",
       "    <tr>\n",
       "      <th>995</th>\n",
       "      <td>Male</td>\n",
       "    </tr>\n",
       "    <tr>\n",
       "      <th>996</th>\n",
       "      <td>Female</td>\n",
       "    </tr>\n",
       "    <tr>\n",
       "      <th>997</th>\n",
       "      <td>Male</td>\n",
       "    </tr>\n",
       "    <tr>\n",
       "      <th>998</th>\n",
       "      <td>Female</td>\n",
       "    </tr>\n",
       "    <tr>\n",
       "      <th>999</th>\n",
       "      <td>Female</td>\n",
       "    </tr>\n",
       "  </tbody>\n",
       "</table>\n",
       "</div>"
      ],
      "text/plain": [
       "     gender\n",
       "995    Male\n",
       "996  Female\n",
       "997    Male\n",
       "998  Female\n",
       "999  Female"
      ]
     },
     "execution_count": 9,
     "metadata": {},
     "output_type": "execute_result"
    }
   ],
   "source": [
    "df.tail()"
   ]
  },
  {
   "cell_type": "code",
   "execution_count": 10,
   "metadata": {},
   "outputs": [
    {
     "data": {
      "image/png": "[encoded data removed]",
      "text/plain": [
       "<Figure size 640x480 with 1 Axes>"
      ]
     },
     "metadata": {},
     "output_type": "display_data"
    }
   ],
   "source": [
    "# showing the difference \n",
    "sns.countplot(x = df[\"gender\"])\n",
    "plt.suptitle(\"male vs female\")\n",
    "plt.show()\n"
   ]
  },
  {
   "cell_type": "markdown",
   "metadata": {},
   "source": [
    "# age \n",
    "\n",
    "The who says people are now living longer, With a lot of people worldwide living to the age of 65+ . it also states that By 2030, 1 in 6 people in the world will be aged 60 years or over. At this time the share of the population aged 60 years and over will increase from 1 billion in 2020 to 1.4 billion.\n",
    "\n",
    "according to the CSO There were 742,300 people living in Ireland aged 65 and over in April 2021. Those aged 65 and over are the only group to gain population share between 2016 and 2021, increasing from 13.3% to 14.8%.\n",
    "\n",
    "\n",
    "The average life expectancy in Ireland in Ireland is currently 78.4 years for men, and 82.8 years for women. \n",
    "\n",
    "Age is a continuous numeric variable. In that a variable many contain any value within some range.\n",
    "\n",
    "As the health survey looks at people aged 15 to 65+. I'm going to use 15 to 85 as my inputs\n",
    "\n"
   ]
  },
  {
   "cell_type": "code",
   "execution_count": 11,
   "metadata": {},
   "outputs": [
    {
     "data": {
      "text/plain": [
       "age\n",
       "29    23\n",
       "45    23\n",
       "38    22\n",
       "76    21\n",
       "37    20\n",
       "      ..\n",
       "58     8\n",
       "61     8\n",
       "22     7\n",
       "48     7\n",
       "44     7\n",
       "Name: count, Length: 70, dtype: int64"
      ]
     },
     "execution_count": 11,
     "metadata": {},
     "output_type": "execute_result"
    }
   ],
   "source": [
    "age = np.random.randint(15, 85, 1000)\n",
    "age\n",
    "df[\"age\"] = age\n",
    "df['age'].value_counts()\n",
    "\n"
   ]
  },
  {
   "cell_type": "code",
   "execution_count": 12,
   "metadata": {},
   "outputs": [
    {
     "data": {
      "text/html": [
       "<div>\n",
       "<style scoped>\n",
       "    .dataframe tbody tr th:only-of-type {\n",
       "        vertical-align: middle;\n",
       "    }\n",
       "\n",
       "    .dataframe tbody tr th {\n",
       "        vertical-align: top;\n",
       "    }\n",
       "\n",
       "    .dataframe thead th {\n",
       "        text-align: right;\n",
       "    }\n",
       "</style>\n",
       "<table border=\"1\" class=\"dataframe\">\n",
       "  <thead>\n",
       "    <tr style=\"text-align: right;\">\n",
       "      <th></th>\n",
       "      <th>gender</th>\n",
       "      <th>age</th>\n",
       "    </tr>\n",
       "  </thead>\n",
       "  <tbody>\n",
       "    <tr>\n",
       "      <th>0</th>\n",
       "      <td>Male</td>\n",
       "      <td>37</td>\n",
       "    </tr>\n",
       "    <tr>\n",
       "      <th>1</th>\n",
       "      <td>Female</td>\n",
       "      <td>31</td>\n",
       "    </tr>\n",
       "    <tr>\n",
       "      <th>2</th>\n",
       "      <td>Female</td>\n",
       "      <td>84</td>\n",
       "    </tr>\n",
       "    <tr>\n",
       "      <th>3</th>\n",
       "      <td>Male</td>\n",
       "      <td>59</td>\n",
       "    </tr>\n",
       "    <tr>\n",
       "      <th>4</th>\n",
       "      <td>Female</td>\n",
       "      <td>33</td>\n",
       "    </tr>\n",
       "  </tbody>\n",
       "</table>\n",
       "</div>"
      ],
      "text/plain": [
       "   gender  age\n",
       "0    Male   37\n",
       "1  Female   31\n",
       "2  Female   84\n",
       "3    Male   59\n",
       "4  Female   33"
      ]
     },
     "execution_count": 12,
     "metadata": {},
     "output_type": "execute_result"
    }
   ],
   "source": [
    "df.head()"
   ]
  },
  {
   "cell_type": "code",
   "execution_count": 13,
   "metadata": {},
   "outputs": [
    {
     "data": {
      "text/html": [
       "<div>\n",
       "<style scoped>\n",
       "    .dataframe tbody tr th:only-of-type {\n",
       "        vertical-align: middle;\n",
       "    }\n",
       "\n",
       "    .dataframe tbody tr th {\n",
       "        vertical-align: top;\n",
       "    }\n",
       "\n",
       "    .dataframe thead th {\n",
       "        text-align: right;\n",
       "    }\n",
       "</style>\n",
       "<table border=\"1\" class=\"dataframe\">\n",
       "  <thead>\n",
       "    <tr style=\"text-align: right;\">\n",
       "      <th></th>\n",
       "      <th>gender</th>\n",
       "      <th>age</th>\n",
       "    </tr>\n",
       "  </thead>\n",
       "  <tbody>\n",
       "    <tr>\n",
       "      <th>995</th>\n",
       "      <td>Male</td>\n",
       "      <td>29</td>\n",
       "    </tr>\n",
       "    <tr>\n",
       "      <th>996</th>\n",
       "      <td>Female</td>\n",
       "      <td>42</td>\n",
       "    </tr>\n",
       "    <tr>\n",
       "      <th>997</th>\n",
       "      <td>Male</td>\n",
       "      <td>60</td>\n",
       "    </tr>\n",
       "    <tr>\n",
       "      <th>998</th>\n",
       "      <td>Female</td>\n",
       "      <td>68</td>\n",
       "    </tr>\n",
       "    <tr>\n",
       "      <th>999</th>\n",
       "      <td>Female</td>\n",
       "      <td>16</td>\n",
       "    </tr>\n",
       "  </tbody>\n",
       "</table>\n",
       "</div>"
      ],
      "text/plain": [
       "     gender  age\n",
       "995    Male   29\n",
       "996  Female   42\n",
       "997    Male   60\n",
       "998  Female   68\n",
       "999  Female   16"
      ]
     },
     "execution_count": 13,
     "metadata": {},
     "output_type": "execute_result"
    }
   ],
   "source": [
    "df.tail()"
   ]
  },
  {
   "cell_type": "code",
   "execution_count": 14,
   "metadata": {},
   "outputs": [
    {
     "name": "stderr",
     "output_type": "stream",
     "text": [
      "c:\\Users\\keith\\anaconda3\\Lib\\site-packages\\seaborn\\axisgrid.py:118: UserWarning: The figure layout has changed to tight\n",
      "  self._figure.tight_layout(*args, **kwargs)\n"
     ]
    },
    {
     "data": {
      "image/png": "[encoded data removed]",
      "text/plain": [
       "<Figure size 500x500 with 1 Axes>"
      ]
     },
     "metadata": {},
     "output_type": "display_data"
    }
   ],
   "source": [
    "Age = np.random.randint(low=15, high=85, size=1000) \n",
    "\n",
    "# plot the distribution\n",
    "sns.displot(Age, color = 'navy')\n",
    "plt.title('Age')\n",
    "plt.xlabel('Age in years')\n",
    "plt.show()\n",
    "\n"
   ]
  },
  {
   "cell_type": "code",
   "execution_count": 15,
   "metadata": {},
   "outputs": [
    {
     "name": "stdout",
     "output_type": "stream",
     "text": [
      "49.0\n"
     ]
    }
   ],
   "source": [
    "mean = np.mean (df[\"age\"])\n",
    "print(mean)"
   ]
  },
  {
   "cell_type": "code",
   "execution_count": 16,
   "metadata": {},
   "outputs": [
    {
     "data": {
      "text/plain": [
       "48.0"
      ]
     },
     "execution_count": 16,
     "metadata": {},
     "output_type": "execute_result"
    }
   ],
   "source": [
    "np.median(age)"
   ]
  },
  {
   "cell_type": "markdown",
   "metadata": {},
   "source": [
    "# Height \n",
    "Both Irish men and women have gotten taller on average since 1914, and have gone up way up in the rankings of world’s tallest countries.\n",
    "\n",
    "Irish men now stand at an average height of 180cm,  And the average height of an Irish female was 165.5cm placing us 20th in terms of height out of 200 countries. These mean heights are used in this project to randomly assign height measurements to the simulated dataset.\n",
    "\n",
    "This is a jump on 5 inches from 1914, when Irish men stood at about 5ft 5 inches. \n",
    "\n",
    "However it should be noted that Height can vary depending on certain factors these would include variables in this project such as age and gender. \n",
    "\n",
    "Height would align with BMI and Weight when it comes to measures the health of a person. "
   ]
  },
  {
   "cell_type": "code",
   "execution_count": 37,
   "metadata": {},
   "outputs": [
    {
     "name": "stderr",
     "output_type": "stream",
     "text": [
      "C:\\Users\\keith\\AppData\\Local\\Temp\\ipykernel_17940\\3015668308.py:2: UserWarning: \n",
      "\n",
      "`distplot` is a deprecated function and will be removed in seaborn v0.14.0.\n",
      "\n",
      "Please adapt your code to use either `displot` (a figure-level function with\n",
      "similar flexibility) or `histplot` (an axes-level function for histograms).\n",
      "\n",
      "For a guide to updating your code to use the new functions, please see\n",
      "https://gist.github.com/mwaskom/de44147ed2974457ad6372750bbe5751\n",
      "\n",
      "  sns.distplot(maleheight)\n"
     ]
    },
    {
     "data": {
      "image/png": "[encoded data removed]",
      "text/plain": [
       "<Figure size 640x480 with 1 Axes>"
      ]
     },
     "metadata": {},
     "output_type": "display_data"
    }
   ],
   "source": [
    "maleheight = pd.DataFrame(np.random.normal(180, 15, 1000))  \n",
    "sns.distplot(maleheight)\n",
    "plt.title('Male Height')\n",
    "plt.xlabel('Height in cm')\n",
    "plt.show()\n",
    "maleheight.columns = ['Height']\n",
    "\n",
    "\n"
   ]
  },
  {
   "cell_type": "code",
   "execution_count": 49,
   "metadata": {},
   "outputs": [
    {
     "data": {
      "text/plain": [
       "179.76548763186364"
      ]
     },
     "execution_count": 49,
     "metadata": {},
     "output_type": "execute_result"
    }
   ],
   "source": [
    "np.mean(maleheight)"
   ]
  },
  {
   "cell_type": "code",
   "execution_count": null,
   "metadata": {},
   "outputs": [
    {
     "name": "stderr",
     "output_type": "stream",
     "text": [
      "C:\\Users\\keith\\AppData\\Local\\Temp\\ipykernel_17940\\813373720.py:2: UserWarning: \n",
      "\n",
      "`distplot` is a deprecated function and will be removed in seaborn v0.14.0.\n",
      "\n",
      "Please adapt your code to use either `displot` (a figure-level function with\n",
      "similar flexibility) or `histplot` (an axes-level function for histograms).\n",
      "\n",
      "For a guide to updating your code to use the new functions, please see\n",
      "https://gist.github.com/mwaskom/de44147ed2974457ad6372750bbe5751\n",
      "\n",
      "  sns.distplot(femaleheight, color= 'green')\n"
     ]
    },
    {
     "data": {
      "image/png": "[encoded data removed]",
      "text/plain": [
       "<Figure size 640x480 with 1 Axes>"
      ]
     },
     "metadata": {},
     "output_type": "display_data"
    }
   ],
   "source": [
    "femaleheight = pd.DataFrame(np.random.normal(165.1, 15, 1000))  \n",
    "sns.distplot(femaleheight, color= 'green')\n",
    "plt.title('Female Height')\n",
    "plt.xlabel('Height in cm')\n",
    "plt.show()\n",
    "femaleheight.columns = ['Height']"
   ]
  },
  {
   "cell_type": "code",
   "execution_count": null,
   "metadata": {},
   "outputs": [
    {
     "data": {
      "text/plain": [
       "165.6510246317594"
      ]
     },
     "execution_count": 66,
     "metadata": {},
     "output_type": "execute_result"
    }
   ],
   "source": [
    "np.mean(femaleheight)"
   ]
  },
  {
   "cell_type": "markdown",
   "metadata": {},
   "source": [
    "# BMI AND WEIGHT \n",
    "\n",
    "Body Mass Index (BMI) is a person’s weight in kilograms (or pounds) divided by the square of height in meters (or feet). A high BMI can indicate high body fatness. BMI screens for weight categories that may lead to health problems, but it does not diagnose the body fatness or health of an individual.\n",
    "\n",
    "According to figures published by the European Commission, Ireland has the second highest rate of obesity in the EU with more than a quarter of the adult population in the Republic classified as obese, The EU-wide survey of overweight rates among Europeans reveals that 26% of Irish adults in 2019 were obese.\n",
    "\n",
    "The NCD Risk Factor Collaboration study is a landmark description of the progress of the obesity pandemic, but substantially underestimates the scale of the problem. The study1 defined obesity using body-mass index (BMI) in adults and BMI-for-age in children and adolescents. This study  undertook a systematic review of 2,416 population-based studies with measurements of height and weight on 128·9 million participants. They used a Bayesian hierarchical model to estimate trends from 1975 to 2016 in 200 countries for mean weight and BMI. The mean weight of Irish males was 80.7kg and for females 69kg. And I will use these figures for the project.\n",
    "\n",
    "The healthy Ireland survey 2022 found that 41% of the population report a normal weight with 35% reporting that they are overweight and 21% reporting that they are obese. Men are more likely than women to report being overweight or obese (63% and 50% respectively) among those aged between 15 and 24, roughly the same proportion of men and women report a normal weight (64% and 63% respectively). However, this gap widens among older age groups with an 18-point gap among those aged between 55 and 64 (22% of men and 40% of women in this age group report a normal weight)"
   ]
  },
  {
   "cell_type": "code",
   "execution_count": null,
   "metadata": {},
   "outputs": [],
   "source": []
  },
  {
   "cell_type": "code",
   "execution_count": null,
   "metadata": {},
   "outputs": [],
   "source": []
  }
 ],
 "metadata": {
  "kernelspec": {
   "display_name": "base",
   "language": "python",
   "name": "python3"
  },
  "language_info": {
   "codemirror_mode": {
    "name": "ipython",
    "version": 3
   },
   "file_extension": ".py",
   "mimetype": "text/x-python",
   "name": "python",
   "nbconvert_exporter": "python",
   "pygments_lexer": "ipython3",
   "version": "3.11.5"
  }
 },
 "nbformat": 4,
 "nbformat_minor": 2
}
